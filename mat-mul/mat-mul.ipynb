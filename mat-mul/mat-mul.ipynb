{
 "cells": [
  {
   "cell_type": "code",
   "execution_count": 25,
   "metadata": {},
   "outputs": [
    {
     "name": "stdout",
     "output_type": "stream",
     "text": [
      "Результат на GPU:\n",
      "[[3201.23757687 3199.47697142 3186.4354442  ... 3228.09359811\n",
      "  3227.70937288 3204.99890313]\n",
      " [3184.75077622 3197.95424746 3162.72903421 ... 3219.96002871\n",
      "  3226.02096866 3224.8402993 ]\n",
      " [3166.50851725 3194.3580369  3142.02590525 ... 3204.39042322\n",
      "  3193.13866587 3198.02161461]\n",
      " ...\n",
      " [3185.81632596 3206.51571228 3172.45297105 ... 3222.5473441\n",
      "  3207.79519441 3216.79038462]\n",
      " [3185.95648882 3190.01605641 3176.99306429 ... 3205.35556954\n",
      "  3194.93820379 3203.61622905]\n",
      " [3202.94353192 3205.6545944  3180.73888337 ... 3227.90318977\n",
      "  3226.66441057 3214.85166794]]\n",
      "Время выполнения на GPU: 31.147587 сек\n"
     ]
    }
   ],
   "source": [
    "import numpy as np\n",
    "import cupy as cp\n",
    "import time\n",
    "\n",
    "def validate_matrix_dims(mat1, mat2):\n",
    "    \"\"\"Проверка, что умножение матриц возможно.\"\"\"\n",
    "    if mat1.shape[1] != mat2.shape[0]:\n",
    "        raise ValueError(\"Размеры матриц не соответствуют правилам умножения\")\n",
    "\n",
    "def cpu_matrix_mult(mat1, mat2):\n",
    "    \"\"\"Умножение матриц на CPU.\"\"\"\n",
    "    validate_matrix_dims(mat1, mat2)  # Вызов проверки совместимости\n",
    "\n",
    "    output = np.zeros((mat1.shape[0], mat2.shape[1]))\n",
    "\n",
    "    start = time.time()\n",
    "    for row in range(mat1.shape[0]):\n",
    "        for col in range(mat2.shape[1]):\n",
    "            for index in range(mat1.shape[1]):\n",
    "                output[row, col] += mat1[row, index] * mat2[index, col]\n",
    "    end = time.time()\n",
    "\n",
    "    return output, end - start\n",
    "\n",
    "def gpu_matrix_mult(mat1, mat2):\n",
    "    \"\"\"Умножение матриц на GPU.\"\"\"\n",
    "    validate_matrix_dims(mat1, mat2)  # Вызов проверки совместимости\n",
    "\n",
    "    # Перенос данных матриц на графическую карту\n",
    "    mat1_gpu = cp.asarray(mat1)\n",
    "    mat2_gpu = cp.asarray(mat2)\n",
    "\n",
    "    start = time.time()\n",
    "    result_gpu = cp.dot(mat1_gpu, mat2_gpu)  # Быстрое умножение на GPU\n",
    "    final_result = cp.asnumpy(result_gpu)    # Перенос результата обратно на CPU\n",
    "    end = time.time()\n",
    "\n",
    "    return final_result, end - start\n",
    "\n",
    "if __name__ == \"__main__\":\n",
    "    shape = (800, 800)\n",
    "    mat1 = np.random.random(shape)\n",
    "    mat2 = np.random.random(shape)\n",
    "\n",
    "    cpu_result, cpu_exec_time = cpu_matrix_mult(mat1, mat2)\n",
    "    gpu_result, gpu_exec_time = gpu_matrix_mult(mat1, mat2)\n",
    "\n",
    "    print(f\"Результат на CPU:\\n{cpu_result}\")\n",
    "    print(f\"Время выполнения на CPU: {cpu_exec_time:.6f} сек\")\n",
    "\n",
    "    print(f\"Результат на GPU:\\n{gpu_result}\")\n",
    "    print(f\"Время выполнения на GPU: {gpu_exec_time:.6f} сек\")"
   ]
  }
 ],
 "metadata": {
  "kernelspec": {
   "display_name": "Python 3",
   "language": "python",
   "name": "python3"
  },
  "language_info": {
   "codemirror_mode": {
    "name": "ipython",
    "version": 3
   },
   "file_extension": ".py",
   "mimetype": "text/x-python",
   "name": "python",
   "nbconvert_exporter": "python",
   "pygments_lexer": "ipython3",
   "version": "3.11.0"
  }
 },
 "nbformat": 4,
 "nbformat_minor": 2
}

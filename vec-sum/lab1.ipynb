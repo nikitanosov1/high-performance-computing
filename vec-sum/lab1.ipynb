{
 "cells": [
  {
   "cell_type": "code",
   "execution_count": 29,
   "metadata": {},
   "outputs": [
    {
     "name": "stdout",
     "output_type": "stream",
     "text": [
      "CPU Result: 1023916.8375448914, Execution Time: 0.210000 sec\n",
      "GPU Result (kernel): 1023916.8375448463, Execution Time: 0.014000 sec\n"
     ]
    }
   ],
   "source": [
    "import numpy as np\n",
    "import cupy as cp\n",
    "import time\n",
    "\n",
    "# CUDA kernel for computing the sum\n",
    "sum_kernel = cp.RawKernel(r'''\n",
    "extern \"C\" __global__\n",
    "void sum_kernel(const double* x, double* y, int n) {\n",
    "    extern __shared__ double sdata[];\n",
    "    \n",
    "    unsigned int tid = threadIdx.x;\n",
    "    unsigned int i = blockIdx.x * blockDim.x + threadIdx.x;\n",
    "    \n",
    "    sdata[tid] = (i < n) ? x[i] : 0.0;\n",
    "    __syncthreads();\n",
    "\n",
    "    for (unsigned int s = blockDim.x / 2; s > 0; s >>= 1) {\n",
    "        if (tid < s) {\n",
    "            sdata[tid] += sdata[tid + s];\n",
    "        }\n",
    "        __syncthreads();\n",
    "    }\n",
    "    \n",
    "    if (tid == 0) {\n",
    "        y[blockIdx.x] = sdata[0];\n",
    "    }\n",
    "}\n",
    "''', 'sum_kernel')\n",
    "\n",
    "def gpu_sum_kernel(arr):\n",
    "    arr_gpu = cp.asarray(arr)\n",
    "    n = arr_gpu.size\n",
    "\n",
    "    threads_per_block = 1024\n",
    "    blocks_per_grid = (n + threads_per_block - 1) // threads_per_block\n",
    "\n",
    "    block_sums = cp.zeros(blocks_per_grid, dtype=cp.float64)\n",
    "\n",
    "    shared_mem_size = threads_per_block * arr_gpu.itemsize\n",
    "\n",
    "    sum_kernel((blocks_per_grid,), (threads_per_block,), (arr_gpu, block_sums, n), shared_mem=shared_mem_size)\n",
    "\n",
    "    total = cp.sum(block_sums)\n",
    "    return total\n",
    "\n",
    "def cpu_sum(arr):\n",
    "    total = 0.0\n",
    "    for val in arr:\n",
    "        total += val\n",
    "    return total\n",
    "\n",
    "if __name__ == \"__main__\":\n",
    "    size = 4096000\n",
    "    data = np.random.random(size)\n",
    "\n",
    "    start_cpu = time.time()\n",
    "    cpu_total = cpu_sum(data)\n",
    "    end_cpu = time.time()\n",
    "\n",
    "    cpu_duration = end_cpu - start_cpu\n",
    "    print(f\"CPU Result: {cpu_total}, Execution Time: {cpu_duration:.6f} sec\")\n",
    "\n",
    "    start_gpu = time.time()\n",
    "    gpu_total = gpu_sum_kernel(data).get()\n",
    "    end_gpu = time.time()\n",
    "\n",
    "    gpu_duration = end_gpu - start_gpu\n",
    "    print(f\"GPU Result (kernel): {gpu_total}, Execution Time: {gpu_duration:.6f} sec\")"
   ]
  }
 ],
 "metadata": {
  "kernelspec": {
   "display_name": "Python 3",
   "language": "python",
   "name": "python3"
  },
  "language_info": {
   "codemirror_mode": {
    "name": "ipython",
    "version": 3
   },
   "file_extension": ".py",
   "mimetype": "text/x-python",
   "name": "python",
   "nbconvert_exporter": "python",
   "pygments_lexer": "ipython3",
   "version": "3.11.0"
  }
 },
 "nbformat": 4,
 "nbformat_minor": 2
}

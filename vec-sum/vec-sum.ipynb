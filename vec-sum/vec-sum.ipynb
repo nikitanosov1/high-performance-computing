{
 "cells": [
  {
   "cell_type": "code",
   "execution_count": 15,
   "metadata": {},
   "outputs": [
    {
     "name": "stdout",
     "output_type": "stream",
     "text": [
      "Результат на CPU: 2048097.012142626, время выполнения: 0.377058 сек\n",
      "Результат на GPU: 2048097.0121424585, время выполнения: 0.033978 сек\n"
     ]
    }
   ],
   "source": [
    "import numpy as np\n",
    "import cupy as cp\n",
    "import time\n",
    "\n",
    "# Функция для подсчета суммы элементов массива на CPU\n",
    "def cpu_sum(arr):\n",
    "    total = 0\n",
    "    for val in arr:\n",
    "        total += val\n",
    "    return total\n",
    "\n",
    "# Функция для подсчета суммы на GPU с использованием CUDA\n",
    "def gpu_sum(arr):\n",
    "    arr_gpu = cp.asarray(arr)  # Переносим данные на GPU\n",
    "    total_gpu = cp.sum(arr_gpu)  # Вычисляем сумму на GPU\n",
    "    return cp.asnumpy(total_gpu)  # Возвращаем результат обратно на CPU\n",
    "\n",
    "if __name__ == \"__main__\":\n",
    "    # Генерация случайного массива\n",
    "    size = 4096000\n",
    "    data = np.random.random(size)\n",
    "\n",
    "    # Выполнение суммирования на CPU и замер времени\n",
    "    start_cpu = time.time()\n",
    "    cpu_total = cpu_sum(data)\n",
    "    end_cpu = time.time()\n",
    "\n",
    "    cpu_duration = end_cpu - start_cpu\n",
    "    print(f\"Результат на CPU: {cpu_total}, время выполнения: {cpu_duration:.6f} сек\")\n",
    "\n",
    "    # Выполнение суммирования на GPU и замер времени\n",
    "    start_gpu = time.time()\n",
    "    gpu_total = gpu_sum(data)\n",
    "    end_gpu = time.time()\n",
    "\n",
    "    gpu_duration = end_gpu - start_gpu\n",
    "    print(f\"Результат на GPU: {gpu_total}, время выполнения: {gpu_duration:.6f} сек\")"
   ]
  }
 ],
 "metadata": {
  "kernelspec": {
   "display_name": "Python 3",
   "language": "python",
   "name": "python3"
  },
  "language_info": {
   "codemirror_mode": {
    "name": "ipython",
    "version": 3
   },
   "file_extension": ".py",
   "mimetype": "text/x-python",
   "name": "python",
   "nbconvert_exporter": "python",
   "pygments_lexer": "ipython3",
   "version": "3.11.0"
  }
 },
 "nbformat": 4,
 "nbformat_minor": 2
}
